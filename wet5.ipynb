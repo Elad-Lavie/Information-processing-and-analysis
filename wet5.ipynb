{
 "cells": [
  {
   "cell_type": "markdown",
   "metadata": {},
   "source": [
    "# HW 5 QUESTIONS 4 AND 5\n",
    "\n",
    "## Dvir Yerushalmi 201271251\n",
    "## Elad Lavie 304819600"
   ]
  },
  {
   "cell_type": "code",
   "execution_count": 1,
   "metadata": {
    "collapsed": false
   },
   "outputs": [
    {
     "name": "stdout",
     "output_type": "stream",
     "text": [
      "The LCSS distance for : \"ababcabc\" vs \"babcbc\" is 6\n",
      "The LCSS distance for : \"cbacbacba\" vs \"acbacbacb\" is 8\n"
     ]
    }
   ],
   "source": [
    "import numpy as np\n",
    "def lcss(x,y):\n",
    "    c = np.zeros((len(x)+1,len(y)+1),dtype=np.int16)\n",
    "    for i in range(1,len(x)+1):\n",
    "        for j in range(1,len(y)+1):\n",
    "            c[i,j] = c[i-1,j-1] +1 if x[i-1] == y[j-1] else max(c[i,j-1],c[i-1,j])\n",
    "    return c[-1,-1]\n",
    "\n",
    "\n",
    "x,y = \"ababcabc\", \"babcbc\"\n",
    "print  'The LCSS distance for : \"{}\" vs \"{}\" is {}'.format(x,y,lcss(x,y))\n",
    "\n",
    "x,y = \"cbacbacba\", \"acbacbacb\"\n",
    "print  'The LCSS distance for : \"{}\" vs \"{}\" is {}'.format(x,y,lcss(x,y))"
   ]
  },
  {
   "cell_type": "code",
   "execution_count": 2,
   "metadata": {
    "collapsed": false
   },
   "outputs": [
    {
     "name": "stdout",
     "output_type": "stream",
     "text": [
      "The Edit distance for : \"ababcabc\" vs \"babcbc\" is 2.0\n",
      "The Edit distance for : \"cbacbacba\" vs \"acbacbacb\" is 2.0\n"
     ]
    }
   ],
   "source": [
    "def edit(s, t):\n",
    "    n , m = len(s), len(t)\n",
    "    d = np.zeros((n+1,m+1)) #DTW := array [0..n, 0..m]\n",
    "    for i in range(1,n+1): #for i := 1 to n\n",
    "        d[i, 0] = i\n",
    "    for i in range(1,m+1):\n",
    "        d[0, i] = i\n",
    "    for i in range(1,n+1):\n",
    "        for j in range(1,m+1):\n",
    "            if s[i-1] == t[j-1]: d[i,j] = d[i-1,j-1]\n",
    "            else:\n",
    "                d[i, j] = 1 + min(d[i-1, j  ],    # insertion\n",
    "                                       d[i  , j-1],   # deletion\n",
    "                                       d[i-1, j-1])   # match\n",
    "    return d[n, m]\n",
    "\n",
    "\n",
    "\n",
    "x,y = \"ababcabc\", \"babcbc\"\n",
    "print  'The Edit distance for : \"{}\" vs \"{}\" is {}'.format(x,y,edit(x,y))\n",
    "\n",
    "x,y = \"cbacbacba\", \"acbacbacb\"\n",
    "print  'The Edit distance for : \"{}\" vs \"{}\" is {}'.format(x,y,edit(x,y))"
   ]
  },
  {
   "cell_type": "markdown",
   "metadata": {},
   "source": [
    "# 4.3\n",
    "\n",
    "## LCSS: \n",
    "For the (i)(j) cell of the matrix in LCSS, we either take the (i-1)(j-1) cell and add 1, or take the maximum value between the (i-1)(j) cell and the (i)(j-1) cell, since all the cells are initialized to zero and since each consecutive cell can be greater by maximum of 1 for his previous neighbours, we proved by induction the LCSS is monotone by i and j.\n",
    "\n",
    "## Edit: \n",
    "Not monote, example: two equal strings, we get the following matrix:\n",
    "\n",
    "<style type=\"text/css\">\n",
    ".tg  {border-collapse:collapse;border-spacing:0;}\n",
    ".tg td{font-family:Arial, sans-serif;font-size:14px;padding:10px 5px;border-style:solid;border-width:1px;overflow:hidden;word-break:normal;}\n",
    ".tg th{font-family:Arial, sans-serif;font-size:14px;font-weight:normal;padding:10px 5px;border-style:solid;border-width:1px;overflow:hidden;word-break:normal;}\n",
    ".tg .tg-yw4l{vertical-align:top}\n",
    "</style>\n",
    "<table class=\"tg\" style=\"undefined;table-layout: fixed; width: 186px\">\n",
    "<colgroup>\n",
    "<col style=\"width: 23px\">\n",
    "<col style=\"width: 23px\">\n",
    "<col style=\"width: 23px\">\n",
    "<col style=\"width: 23px\">\n",
    "<col style=\"width: 23px\">\n",
    "<col style=\"width: 23px\">\n",
    "<col style=\"width: 27px\">\n",
    "<col style=\"width: 21px\">\n",
    "</colgroup>\n",
    "  <tr>\n",
    "    <th class=\"tg-yw4l\">0</th>\n",
    "    <th class=\"tg-yw4l\">1</th>\n",
    "    <th class=\"tg-yw4l\">2</th>\n",
    "    <th class=\"tg-yw4l\">3</th>\n",
    "    <th class=\"tg-yw4l\">4</th>\n",
    "    <th class=\"tg-yw4l\">5</th>\n",
    "    <th class=\"tg-yw4l\">...</th>\n",
    "  </tr>\n",
    "  <tr>\n",
    "    <td class=\"tg-yw4l\">1</td>\n",
    "    <td class=\"tg-yw4l\">0</td>\n",
    "    <td class=\"tg-yw4l\">1</td>\n",
    "    <td class=\"tg-yw4l\">2</td>\n",
    "    <td class=\"tg-yw4l\">3</td>\n",
    "    <td class=\"tg-yw4l\">4</td>\n",
    "    <td class=\"tg-yw4l\">...</td>\n",
    "  </tr>\n",
    "  <tr>\n",
    "    <td class=\"tg-yw4l\">2</td>\n",
    "    <td class=\"tg-yw4l\">1</td>\n",
    "    <td class=\"tg-yw4l\">0</td>\n",
    "    <td class=\"tg-yw4l\">1</td>\n",
    "    <td class=\"tg-yw4l\">2</td>\n",
    "    <td class=\"tg-yw4l\">3</td>\n",
    "    <td class=\"tg-yw4l\">...</td>\n",
    "  </tr>\n",
    "  <tr>\n",
    "    <td class=\"tg-yw4l\">...</td>\n",
    "    <td class=\"tg-yw4l\">...</td>\n",
    "    <td class=\"tg-yw4l\">...</td>\n",
    "    <td class=\"tg-yw4l\">...</td>\n",
    "    <td class=\"tg-yw4l\">...</td>\n",
    "    <td class=\"tg-yw4l\">...</td>\n",
    "    <td class=\"tg-yw4l\">...</td>\n",
    "  </tr>\n",
    "</table>\n",
    "\n",
    "## DTW:\n",
    "very similar to Edit (because we only replace the +1 with +cost, and change the initialization)."
   ]
  },
  {
   "cell_type": "code",
   "execution_count": 3,
   "metadata": {
    "collapsed": false
   },
   "outputs": [
    {
     "name": "stdout",
     "output_type": "stream",
     "text": [
      "The DTW distance for : \"[1, 1, 5, 3, 7, 5, 3, 5, 6, 3, 2]\" vs \"[2, 5, 3, 7, 8, 1]\" is 13.0\n",
      "The DTW distance for : \"[1, 2, 3, 4]\" vs \"[4, 3, 2, 1]\" is 8.0\n"
     ]
    }
   ],
   "source": [
    "def DTW(s, t):\n",
    "    n , m = len(s), len(t)\n",
    "    mat = np.zeros((n+1,m+1)) #DTW := array [0..n, 0..m]\n",
    "    for i in range(1,n+1): #for i := 1 to n\n",
    "        mat[i, 0] = float('inf')\n",
    "    for i in range(1,m+1):\n",
    "        mat[0, i] = float('inf')\n",
    "    mat[0, 0] = 0\n",
    "    for i in range(1,n+1):\n",
    "        for j in range(1,m+1):\n",
    "            cost = abs(s[i-1] - t[j-1])\n",
    "            mat[i, j] = cost + min(mat[i-1, j  ],    # insertion\n",
    "                                       mat[i  , j-1],   # deletion\n",
    "                                       mat[i-1, j-1])   # match\n",
    "\n",
    "    return mat[n, m]\n",
    "\n",
    "\n",
    "x,y = [1,1,5,3,7,5,3,5,6,3,2], [2,5,3,7,8,1]\n",
    "print  'The DTW distance for : \"{}\" vs \"{}\" is {}'.format(x,y,DTW(x,y))\n",
    "\n",
    "x , y = [1,2,3,4] , [4,3,2,1]\n",
    "print  'The DTW distance for : \"{}\" vs \"{}\" is {}'.format(x,y,DTW(x,y))"
   ]
  }
 ],
 "metadata": {
  "kernelspec": {
   "display_name": "Python 2",
   "language": "python",
   "name": "python2"
  },
  "language_info": {
   "codemirror_mode": {
    "name": "ipython",
    "version": 2
   },
   "file_extension": ".py",
   "mimetype": "text/x-python",
   "name": "python",
   "nbconvert_exporter": "python",
   "pygments_lexer": "ipython2",
   "version": "2.7.13"
  }
 },
 "nbformat": 4,
 "nbformat_minor": 2
}
