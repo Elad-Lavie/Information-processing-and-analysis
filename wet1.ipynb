{
 "cells": [
  {
   "cell_type": "markdown",
   "metadata": {},
   "source": [
    "# HW1 - Data Analysis\n",
    "### Dvir Yerushalmi    201271251\n",
    "### Elad Lavie            - 304819600\n",
    "\n",
    "<img src= \"./trajectories.jpg\" style=\"width:500px;height:150px\" align=\"left\">"
   ]
  },
  {
   "cell_type": "markdown",
   "metadata": {},
   "source": [
    "# Question 1 - Warm-Up\n",
    "a) Integrated Development Environment, or IDE is a software suite that consolidates the basic tools developers need to write and test software, Typically, an IDE contains a code editor, a compiler or interpreter and a debugger that the developer accesses through a single graphical user interface (GUI). An IDE may be a standalone application, or it may be included as part of one or more existing and compatible applications.\n",
    "examples for IDE for python are: spyder, Ipython notebook, eclipse pydev and Pycharm.\n",
    "\n",
    "b)\n",
    "- __numpy__ -\n",
    "NumPy is the a package for scientific computing with Python. NumPy’s main object is the homogeneous multidimensional array. it includes routines for fast operations on arrays, including mathematical, logical, shape manipulation, sorting, selecting, I/O, discrete Fourier transforms, and much more.\n",
    "the basic of numpy is arrays. <br />\n",
    "**our example** will be how to create matrix, and multiply each column of the matrix by a different number. assume we have this 5x3 dimentional array. <br />\n",
    "my_matrix =  \n",
    "        array(\n",
    "        [[ 0,  1,  2],\n",
    "        [ 3,  4,  5],\n",
    "        [ 6,  7,  8],\n",
    "        [ 9, 10, 11],\n",
    "        [12, 13, 14]])\n",
    "created using np.arange(15).reshape((5,3))\n",
    "we want to multiply the first column by 2 and the third column by 3, and we want to do this in a vectoried way as fast as we can.\n",
    "we can do this by:\n",
    "**my_matrix\\*np.array([2,1,3])**.\n",
    "the result is:\n",
    "       array(\n",
    "       [[ 0,  1,  6],\n",
    "       [ 6,  4, 15],\n",
    "       [12,  7, 24],\n",
    "       [18, 10, 33],\n",
    "       [24, 13, 42]])\n",
    "       \n",
    "- __scipy__ - SciPy ia used for scientific computing and technical computing.\n",
    "SciPy contains modules for optimization, linear algebra, integration, interpolation, special functions, FFT, etc.\n",
    "SciPy builds on the NumPy array object and is part of the NumPy stack which includes tools like Matplotlib, pandas and SymPy.\n",
    "**our tool** is the norm class, we will find the pdf (probability distribution function) of the normal distribution function, then plot it as stars"
   ]
  },
  {
   "cell_type": "code",
   "execution_count": 1,
   "metadata": {
    "collapsed": false
   },
   "outputs": [
    {
     "name": "stdout",
     "output_type": "stream",
     "text": [
      "the norm pdf\n",
      "*\n",
      "*\n",
      "**\n",
      "****\n",
      "******\n",
      "*********\n",
      "************\n",
      "*****************\n",
      "**********************\n",
      "****************************\n",
      "**********************************\n",
      "****************************************\n",
      "**********************************************\n",
      "****************************************************\n",
      "********************************************************\n",
      "**********************************************************\n",
      "***********************************************************\n",
      "**********************************************************\n",
      "********************************************************\n",
      "****************************************************\n",
      "**********************************************\n",
      "****************************************\n",
      "**********************************\n",
      "****************************\n",
      "**********************\n",
      "*****************\n",
      "************\n",
      "*********\n",
      "******\n",
      "****\n",
      "**\n",
      "*\n",
      "*\n"
     ]
    }
   ],
   "source": [
    "%load_ext autoreload\n",
    "%autoreload 2\n",
    "%matplotlib inline\n",
    "import numpy as np\n",
    "from scipy.stats import norm\n",
    "from matplotlib import pyplot as plt\n",
    "import pandas as pd\n",
    "print \"the norm pdf\"\n",
    "for i in np.linspace(start=-2.8, stop=2.8, num= 33):\n",
    "    print \"\".join(['*']*int((norm.pdf(i)*150)))"
   ]
  },
  {
   "cell_type": "markdown",
   "metadata": {},
   "source": [
    "- __matplotlib__ -\n",
    "Matplotlib is a Python 2D plotting library which produces publication quality figures in a variety of hardcopy formats and interactive environments across platforms.\n",
    "**our tool** is the plot\n",
    "plotting the above example as a graph -"
   ]
  },
  {
   "cell_type": "code",
   "execution_count": 2,
   "metadata": {
    "collapsed": false
   },
   "outputs": [
    {
     "data": {
      "text/plain": [
       "<matplotlib.text.Text at 0xb9c6518>"
      ]
     },
     "execution_count": 2,
     "metadata": {},
     "output_type": "execute_result"
    },
    {
     "data": {
      "image/png": "[encoded data removed]",
      "text/plain": [
       "<matplotlib.figure.Figure at 0x4ad3400>"
      ]
     },
     "metadata": {},
     "output_type": "display_data"
    }
   ],
   "source": [
    "\n",
    "x = np.linspace(start=-2.8, stop=2.8, num= 33)\n",
    "y = [norm.pdf(i) for i in x]\n",
    "plot = plt.plot(x,y, 'x')\n",
    "plt.xlabel('X')\n",
    "plt.ylabel('P(X)')\n",
    "plt.title('The normal distribution funtion')"
   ]
  },
  {
   "cell_type": "markdown",
   "metadata": {},
   "source": [
    "- **pandas**\n",
    "pandas is a Python package providing fast, flexible, and expressive data structures designed to make working with “relational” or “labeled” data both easy and intuitive. It aims to be the fundamental high-level building block for doing practical, real world data analysis in Python.\n",
    "**our tool** is the group-by option. we will create pandas table, group the table by the index, and then calculate the sum."
   ]
  },
  {
   "cell_type": "code",
   "execution_count": 3,
   "metadata": {
    "collapsed": false
   },
   "outputs": [
    {
     "name": "stdout",
     "output_type": "stream",
     "text": [
      "the table is:\n",
      "1    19\n",
      "2    16\n",
      "3    19\n",
      "1    11\n",
      "2     2\n",
      "3    15\n",
      "1    18\n",
      "2    19\n",
      "3    17\n",
      "dtype: int32\n",
      "\n",
      "the sum is:\n",
      "1    48\n",
      "2    37\n",
      "3    51\n",
      "dtype: int32\n",
      "\n"
     ]
    }
   ],
   "source": [
    "indices = np.array([1, 2, 3]*3)\n",
    "values = np.random.randint(low = 0, high = 20, size = 9)\n",
    "s = pd.Series(values,indices)\n",
    "print \"the table is:\\n{}\\n\".format(s)\n",
    "grouped = s.groupby(level = 0)\n",
    "print \"the sum is:\\n{}\\n\".format(grouped.sum())"
   ]
  },
  {
   "cell_type": "markdown",
   "metadata": {},
   "source": [
    "- **scikit-learn**\n",
    "a free software machine learning library, It features various classification, regression and clustering algorithms including support vector machines, random forests,and k-means.\n",
    "**useful tool** is random forests, its usage is for classification.\n",
    "\n",
    "- **NLTK**\n",
    "NLTK is a platform for building Python programs to work with human language data. It provides easy-to-use interfaces to over 50 corpora and lexical resources such as WordNet, along with a suite of text processing libraries for classification, tokenization, stemming, tagging, parsing, and semantic.\n",
    "**useful tool** \n",
    "tagging part of speech, which may be \n",
    "        CC\tCoordinating conjunction\n",
    "        CD\tCardinal number\n",
    "        DT\tDeterminer\n",
    "        EX\tExistential there\n",
    "        FW\tForeign word\n",
    "        IN\tPreposition or subordinating conjunction\n",
    "        JJ\tAdjective\n",
    "        JJR\tAdjective, comparative\n",
    "and <a herf= \"https://cs.nyu.edu/grishman/jet/guide/PennPOS.html\" > many more </a>\n",
    "\n"
   ]
  },
  {
   "cell_type": "code",
   "execution_count": 4,
   "metadata": {
    "collapsed": false
   },
   "outputs": [
    {
     "name": "stdout",
     "output_type": "stream",
     "text": [
      "Ben Gurion International Airport\n",
      "Beersheba (Teyman) Airport\n",
      "Tel Nof Air Base\n",
      "Ein Shemer Airfield\n",
      "Eilat Airport\n",
      "Ein Yahav Airfield\n",
      "Haifa International Airport\n",
      "Hatzor Air Base\n",
      "Ben Ya'akov Airport\n",
      "Megiddo Airport\n",
      "Bar Yehuda Airfield\n",
      "Nevatim Air Base\n",
      "Ovda International Airport\n",
      "Ramat David Air Base\n",
      "Ramon Air Base\n",
      "Sde Dov Airport\n"
     ]
    }
   ],
   "source": [
    "headers = ['Airport ID', 'Name', 'City', 'Country', 'IATA', 'ICAO',\n",
    "           'Latitude', 'Longitude', 'Altitude', 'Timezone', 'DST',\n",
    "           'Tz database time zone', 'Type', 'Source']\n",
    "airports = pd.read_csv(\"airports.dat\", header=None,names=headers)\n",
    "\n",
    "# Print all airport names of a specific country you like.\n",
    "print(\"\\n\".join(airports[(airports['Country']\n",
    "                          == 'Israel')]['Name'].unique()))"
   ]
  },
  {
   "cell_type": "code",
   "execution_count": 5,
   "metadata": {
    "collapsed": false
   },
   "outputs": [
    {
     "name": "stdout",
     "output_type": "stream",
     "text": [
      "United States                     1435\n",
      "Canada                             417\n",
      "Australia                          296\n",
      "Germany                            241\n",
      "Russia                             238\n",
      "Brazil                             234\n",
      "France                             214\n",
      "China                              180\n",
      "United Kingdom                     162\n",
      "India                              125\n",
      "Indonesia                          125\n",
      "Japan                              119\n",
      "South Africa                        96\n",
      "Argentina                           94\n",
      "Mexico                              83\n",
      "Italy                               82\n",
      "Iran                                81\n",
      "Sweden                              77\n",
      "Colombia                            74\n",
      "Turkey                              72\n",
      "Philippines                         64\n",
      "Spain                               62\n",
      "Norway                              61\n",
      "Venezuela                           57\n",
      "Greece                              55\n",
      "New Zealand                         52\n",
      "Pakistan                            52\n",
      "Finland                             51\n",
      "Thailand                            50\n",
      "Congo (Kinshasa)                    44\n",
      "                                  ... \n",
      "Benin                                1\n",
      "Luxembourg                           1\n",
      "Burundi                              1\n",
      "Palestine                            1\n",
      "Swaziland                            1\n",
      "Isle of Man                          1\n",
      "Gambia                               1\n",
      "Saint Helena                         1\n",
      "West Bank                            1\n",
      "Midway Islands                       1\n",
      "Macau                                1\n",
      "Christmas Island                     1\n",
      "British Indian Ocean Territory       1\n",
      "Tuvalu                               1\n",
      "Wake Island                          1\n",
      "Barbados                             1\n",
      "Palau                                1\n",
      "Anguilla                             1\n",
      "Martinique                           1\n",
      "Nauru                                1\n",
      "Myanmar                              1\n",
      "Norfolk Island                       1\n",
      "Montserrat                           1\n",
      "Aruba                                1\n",
      "Bermuda                              1\n",
      "Johnston Atoll                       1\n",
      "Niue                                 1\n",
      "Gibraltar                            1\n",
      "Jersey                               1\n",
      "Grenada                              1\n",
      "Name: Country, dtype: int64\n"
     ]
    }
   ],
   "source": [
    "#counts the number of airports in each country\n",
    "unique_airports_per_country = airports.drop_duplicates(['Country','Name'])\n",
    "print(airports['Country'].value_counts())"
   ]
  },
  {
   "cell_type": "code",
   "execution_count": 7,
   "metadata": {
    "collapsed": false
   },
   "outputs": [
    {
     "data": {
      "text/plain": [
       "<matplotlib.text.Text at 0xdc821d0>"
      ]
     },
     "execution_count": 7,
     "metadata": {},
     "output_type": "execute_result"
    },
    {
     "data": {
      "image/png": "[encoded data removed]",
      "text/plain": [
       "<matplotlib.figure.Figure at 0xc61ada0>"
      ]
     },
     "metadata": {},
     "output_type": "display_data"
    }
   ],
   "source": [
    "# 4. Route length analysis\n",
    "import math\n",
    "\n",
    "headers = ['Airline', 'Airline ID', 'Source airport',\n",
    "           'Source airport ID', 'Destination airport',\n",
    "           'Destination airport ID', 'Codeshare', 'Stops', 'Equipment']\n",
    "routes =  pd.read_csv(\"routes.dat\", header=None,names=headers)\n",
    "routes_no_none = routes[(routes['Source airport ID'] != r'\\N')\n",
    "                        & (routes['Destination airport ID'] != r'\\N')]\n",
    "\n",
    "def distance(lat1, long1, lat2, long2):\n",
    "    R = 6371 # Earth Radius in Km\n",
    "    dLat = math.radians(lat2 - lat1) # Convert Degrees 2 Radians\n",
    "    dLong = math.radians(long2 - long1)\n",
    "    lat1 = math.radians(lat1)\n",
    "    lat2 = math.radians(lat2)\n",
    "    a = math.sin(dLat/2) * math.sin(dLat/2) + math.sin(dLong/2) \\\n",
    "    * math.sin(dLong/2) * math.cos(lat1) * math.cos(lat2)\n",
    "    c = 2 * math.atan2(math.sqrt(a), math.sqrt(1-a))\n",
    "    d = R * c\n",
    "    return d\n",
    "\n",
    "\n",
    "airport_to_curds = {int(airport[1]['Airport ID']) : \n",
    "                    (airport[1]['Latitude'],airport[1]['Longitude'])\n",
    "                    for airport in airports.iterrows()}\n",
    "distances = list()\n",
    "for route in routes_no_none.iterrows():\n",
    "    source_airport_id = int(route[1]['Source airport ID'])\n",
    "    destination_airport_id = int(route[1]['Destination airport ID'])\n",
    "    # ignore routes which either course or destination\n",
    "    # and can't be found in the dict\n",
    "    try:\n",
    "        source_airport_cords = airport_to_curds[source_airport_id]\n",
    "        destination_airport_cords = airport_to_curds[\n",
    "            destination_airport_id]\n",
    "    except KeyError as e:\n",
    "        continue\n",
    "    distance_val = distance(source_airport_cords[0],\n",
    "                            source_airport_cords[1],\n",
    "                            destination_airport_cords[0],\n",
    "                            destination_airport_cords[1])\n",
    "    distances.append(distance_val)\n",
    "    \n",
    "plot = pd.DataFrame.hist(pd.DataFrame(distances))\n",
    "plt.xlabel('flight length')\n",
    "plt.ylabel('amount of flights for that length')\n",
    "plt.title('amount vs length of flight')    \n",
    "    \n",
    "    "
   ]
  },
  {
   "cell_type": "code",
   "execution_count": null,
   "metadata": {
    "collapsed": true
   },
   "outputs": [],
   "source": []
  }
 ],
 "metadata": {
  "kernelspec": {
   "display_name": "Python [conda env:python27]",
   "language": "python",
   "name": "conda-env-python27-py"
  },
  "language_info": {
   "codemirror_mode": {
    "name": "ipython",
    "version": 2
   },
   "file_extension": ".py",
   "mimetype": "text/x-python",
   "name": "python",
   "nbconvert_exporter": "python",
   "pygments_lexer": "ipython2",
   "version": "2.7.13"
  }
 },
 "nbformat": 4,
 "nbformat_minor": 2
}
